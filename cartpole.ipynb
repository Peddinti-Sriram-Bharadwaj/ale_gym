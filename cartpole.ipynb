{
 "cells": [
  {
   "cell_type": "code",
   "execution_count": 12,
   "metadata": {},
   "outputs": [
    {
     "name": "stdout",
     "output_type": "stream",
     "text": [
      "Requirement already satisfied: gymnasium in ./.rl_ale/lib/python3.9/site-packages (1.1.1)\n",
      "Requirement already satisfied: cloudpickle>=1.2.0 in ./.rl_ale/lib/python3.9/site-packages (from gymnasium) (3.1.1)\n",
      "Requirement already satisfied: farama-notifications>=0.0.1 in ./.rl_ale/lib/python3.9/site-packages (from gymnasium) (0.0.4)\n",
      "Requirement already satisfied: typing-extensions>=4.3.0 in ./.rl_ale/lib/python3.9/site-packages (from gymnasium) (4.12.2)\n",
      "Requirement already satisfied: numpy>=1.21.0 in ./.rl_ale/lib/python3.9/site-packages (from gymnasium) (2.0.2)\n",
      "Requirement already satisfied: importlib-metadata>=4.8.0 in ./.rl_ale/lib/python3.9/site-packages (from gymnasium) (8.6.1)\n",
      "Requirement already satisfied: zipp>=3.20 in ./.rl_ale/lib/python3.9/site-packages (from importlib-metadata>=4.8.0->gymnasium) (3.21.0)\n",
      "\u001b[33mWARNING: You are using pip version 21.2.4; however, version 25.0.1 is available.\n",
      "You should consider upgrading via the '/Users/srirambharadwaj/Documents/ML/Reinforcement Learning/ale/.rl_ale/bin/python3 -m pip install --upgrade pip' command.\u001b[0m\n",
      "Requirement already satisfied: swig in ./.rl_ale/lib/python3.9/site-packages (4.3.0)\n",
      "\u001b[33mWARNING: You are using pip version 21.2.4; however, version 25.0.1 is available.\n",
      "You should consider upgrading via the '/Users/srirambharadwaj/Documents/ML/Reinforcement Learning/ale/.rl_ale/bin/python3 -m pip install --upgrade pip' command.\u001b[0m\n",
      "Requirement already satisfied: gymnasium[box2d] in ./.rl_ale/lib/python3.9/site-packages (1.1.1)\n",
      "Requirement already satisfied: importlib-metadata>=4.8.0 in ./.rl_ale/lib/python3.9/site-packages (from gymnasium[box2d]) (8.6.1)\n",
      "Requirement already satisfied: farama-notifications>=0.0.1 in ./.rl_ale/lib/python3.9/site-packages (from gymnasium[box2d]) (0.0.4)\n",
      "Requirement already satisfied: cloudpickle>=1.2.0 in ./.rl_ale/lib/python3.9/site-packages (from gymnasium[box2d]) (3.1.1)\n",
      "Requirement already satisfied: numpy>=1.21.0 in ./.rl_ale/lib/python3.9/site-packages (from gymnasium[box2d]) (2.0.2)\n",
      "Requirement already satisfied: typing-extensions>=4.3.0 in ./.rl_ale/lib/python3.9/site-packages (from gymnasium[box2d]) (4.12.2)\n",
      "Requirement already satisfied: swig==4.* in ./.rl_ale/lib/python3.9/site-packages (from gymnasium[box2d]) (4.3.0)\n",
      "Collecting box2d-py==2.3.5\n",
      "  Downloading box2d-py-2.3.5.tar.gz (374 kB)\n",
      "\u001b[K     |████████████████████████████████| 374 kB 31 kB/s eta 0:00:01\n",
      "\u001b[?25hCollecting pygame>=2.1.3\n",
      "  Downloading pygame-2.6.1-cp39-cp39-macosx_11_0_arm64.whl (12.4 MB)\n",
      "\u001b[K     |████████████████████████████████| 12.4 MB 63 kB/s eta 0:00:01\n",
      "\u001b[?25hRequirement already satisfied: zipp>=3.20 in ./.rl_ale/lib/python3.9/site-packages (from importlib-metadata>=4.8.0->gymnasium[box2d]) (3.21.0)\n",
      "Building wheels for collected packages: box2d-py\n",
      "  Building wheel for box2d-py (setup.py) ... \u001b[?25ldone\n",
      "\u001b[?25h  Created wheel for box2d-py: filename=box2d_py-2.3.5-cp39-cp39-macosx_10_9_universal2.whl size=879042 sha256=d975535762aab535ad825914e5a75de0047b0a4f33eaf8c91fb7e5482e15e8a7\n",
      "  Stored in directory: /Users/srirambharadwaj/Library/Caches/pip/wheels/a4/c2/c1/076651c394f05fe60990cd85616c2d95bc1619aa113f559d7d\n",
      "Successfully built box2d-py\n",
      "Installing collected packages: pygame, box2d-py\n",
      "Successfully installed box2d-py-2.3.5 pygame-2.6.1\n",
      "\u001b[33mWARNING: You are using pip version 21.2.4; however, version 25.0.1 is available.\n",
      "You should consider upgrading via the '/Users/srirambharadwaj/Documents/ML/Reinforcement Learning/ale/.rl_ale/bin/python3 -m pip install --upgrade pip' command.\u001b[0m\n"
     ]
    }
   ],
   "source": [
    "!pip install gymnasium\n",
    "!pip install swig\n",
    "!pip install \"gymnasium[box2d]\"\n",
    "\n",
    "\n"
   ]
  },
  {
   "cell_type": "code",
   "execution_count": 15,
   "metadata": {},
   "outputs": [],
   "source": [
    "import gymnasium as gym\n",
    "\n",
    "env = gym.make(\"LunarLander-v3\", render_mode=\"human\")\n",
    "observation, info = env.reset()\n",
    "\n",
    "episode_over = False\n",
    "while not episode_over:\n",
    "    action = env.action_space.sample()  # agent policy that uses the observation and info\n",
    "    observation, reward, terminated, truncated, info = env.step(action)\n",
    "\n",
    "    episode_over = terminated or truncated\n",
    "\n",
    "env.close()\n",
    "\n",
    "\n"
   ]
  },
  {
   "cell_type": "code",
   "execution_count": null,
   "metadata": {},
   "outputs": [],
   "source": []
  }
 ],
 "metadata": {
  "kaggle": {
   "accelerator": "none",
   "dataSources": [],
   "dockerImageVersionId": 30918,
   "isGpuEnabled": false,
   "isInternetEnabled": true,
   "language": "python",
   "sourceType": "notebook"
  },
  "kernelspec": {
   "display_name": ".rl_ale",
   "language": "python",
   "name": "python3"
  },
  "language_info": {
   "codemirror_mode": {
    "name": "ipython",
    "version": 3
   },
   "file_extension": ".py",
   "mimetype": "text/x-python",
   "name": "python",
   "nbconvert_exporter": "python",
   "pygments_lexer": "ipython3",
   "version": "3.9.6"
  }
 },
 "nbformat": 4,
 "nbformat_minor": 4
}
